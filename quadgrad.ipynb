{
  "nbformat": 4,
  "nbformat_minor": 0,
  "metadata": {
    "colab": {
      "provenance": []
    },
    "kernelspec": {
      "name": "python3",
      "display_name": "Python 3"
    },
    "language_info": {
      "name": "python"
    }
  },
  "cells": [
    {
      "cell_type": "code",
      "execution_count": 111,
      "metadata": {
        "id": "QzhX94ym-lF7"
      },
      "outputs": [],
      "source": [
        "from ipywidgets import interact\n",
        "from fastai.basics import *\n",
        "\n",
        "plt.rc('figure', dpi=90)\n",
        "\n",
        "def plot_function(f, title=None, min=-2.1, max=2.1, color='r', ylim=None):\n",
        "    x = torch.linspace(min,max, 100)[:,None]\n",
        "    if ylim: plt.ylim(ylim)\n",
        "    plt.plot(x, f(x), color)\n",
        "    if title is not None: plt.title(title)"
      ]
    },
    {
      "cell_type": "code",
      "source": [
        "def cubic(a, b, c, d, x):\n",
        "  return a*x**3 + b*x**2 + c*x + d"
      ],
      "metadata": {
        "id": "ISEF2eb4YbKA"
      },
      "execution_count": 101,
      "outputs": []
    },
    {
      "cell_type": "code",
      "source": [
        "def loss_fn(a, b, c, d, x):\n",
        "  return (cubic(a, b, c, d, x) - 0)**2 # We want the cubic output to be 0"
      ],
      "metadata": {
        "id": "h_SLNQMMkNFk"
      },
      "execution_count": 102,
      "outputs": []
    },
    {
      "cell_type": "code",
      "source": [
        "x = torch.tensor([3.0], requires_grad=True)\n",
        "x"
      ],
      "metadata": {
        "colab": {
          "base_uri": "https://localhost:8080/"
        },
        "id": "YM6RGoKxldDr",
        "outputId": "0c10a84d-c8dc-489b-ba84-2912b04304d0"
      },
      "execution_count": 103,
      "outputs": [
        {
          "output_type": "execute_result",
          "data": {
            "text/plain": [
              "tensor([3.], requires_grad=True)"
            ]
          },
          "metadata": {},
          "execution_count": 103
        }
      ]
    },
    {
      "cell_type": "code",
      "source": [
        "#x^3 - 6x^2 + 11x - 6 = 0 ->roots are 1,2 and 3"
      ],
      "metadata": {
        "id": "pqMbwhs6x9ze"
      },
      "execution_count": 104,
      "outputs": []
    },
    {
      "cell_type": "code",
      "source": [
        "learning_rate = 0.01 # Adjust this value\n",
        "\n",
        "# Define the coefficients of the cubic function\n",
        "a = torch.tensor(1.0, requires_grad=True)\n",
        "b = torch.tensor(-6.0, requires_grad=True)\n",
        "c = torch.tensor(11.0, requires_grad=True)\n",
        "d = torch.tensor(-6.0, requires_grad=True)\n",
        "\n",
        "\n",
        "for i in range(10):\n",
        "  # Calculate the loss\n",
        "  loss = loss_fn(a, b, c, d, x)\n",
        "\n",
        "  # Backpropagate to calculate gradients\n",
        "  loss.backward()\n",
        "\n",
        "  # Update x using SGD\n",
        "  with torch.no_grad():\n",
        "    x -= x.grad * learning_rate\n",
        "\n",
        "  # Zero the gradients for the next iteration\n",
        "  x.grad.zero_()\n",
        "\n",
        "  print(f\"Iteration {i+1}, Loss: {loss.item()}, x: {x.item()}\")"
      ],
      "metadata": {
        "colab": {
          "base_uri": "https://localhost:8080/"
        },
        "id": "e4gS7EncnMIs",
        "outputId": "17f199be-e6bb-45b1-9458-f3543f3a1a0a"
      },
      "execution_count": 105,
      "outputs": [
        {
          "output_type": "stream",
          "name": "stdout",
          "text": [
            "Iteration 1, Loss: 0.0, x: 3.0\n",
            "Iteration 2, Loss: 0.0, x: 3.0\n",
            "Iteration 3, Loss: 0.0, x: 3.0\n",
            "Iteration 4, Loss: 0.0, x: 3.0\n",
            "Iteration 5, Loss: 0.0, x: 3.0\n",
            "Iteration 6, Loss: 0.0, x: 3.0\n",
            "Iteration 7, Loss: 0.0, x: 3.0\n",
            "Iteration 8, Loss: 0.0, x: 3.0\n",
            "Iteration 9, Loss: 0.0, x: 3.0\n",
            "Iteration 10, Loss: 0.0, x: 3.0\n"
          ]
        }
      ]
    },
    {
      "cell_type": "code",
      "source": [
        "def cubic_expression(x):\n",
        "  return x**3 - 6*x**2 + 11*x - 6\n",
        "\n",
        "# Plot the function\n",
        "plot_function(cubic_expression, min=0, max=5)"
      ],
      "metadata": {
        "colab": {
          "base_uri": "https://localhost:8080/",
          "height": 389
        },
        "id": "NmDcEGA9zdMz",
        "outputId": "19ccadf4-aa16-465b-c4a6-1dafc9e1a178"
      },
      "execution_count": 113,
      "outputs": [
        {
          "output_type": "display_data",
          "data": {
            "text/plain": [
              "<Figure size 576x432 with 1 Axes>"
            ],
            "image/png": "[encoded data removed]"
          },
          "metadata": {}
        }
      ]
    },
    {
      "cell_type": "code",
      "source": [
        "#Let's test\n",
        "cubic_expression(3.0)"
      ],
      "metadata": {
        "colab": {
          "base_uri": "https://localhost:8080/"
        },
        "id": "n37fvWmgzwy5",
        "outputId": "f6eb6efa-2887-4415-cc5e-07659b23db99"
      },
      "execution_count": 114,
      "outputs": [
        {
          "output_type": "execute_result",
          "data": {
            "text/plain": [
              "0.0"
            ]
          },
          "metadata": {},
          "execution_count": 114
        }
      ]
    }
  ]
}